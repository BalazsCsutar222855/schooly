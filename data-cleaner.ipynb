{
 "cells": [
  {
   "cell_type": "code",
   "execution_count": 1,
   "metadata": {},
   "outputs": [
    {
     "name": "stdout",
     "output_type": "stream",
     "text": [
      "      district                                               name  \\\n",
      "0  District 10  Hunfalvy János Két Tanítási Nyelvű Közgazdaság...   \n",
      "1  District 10                        Kosztolányi Dezső Gimnázium   \n",
      "2  District 10                            Petőfi Sándor Gimnázium   \n",
      "3  District 10             Budapesti Egyetemi Katolikus Gimnázium   \n",
      "4  District 10  Szent Gellért Katolikus Általános Iskola és Gi...   \n",
      "\n",
      "                             address                         website contact  \\\n",
      "0         Budapest, Ponty u. 3, 1011     http://www.hunfalvy-szki.hu     NaN   \n",
      "1      Budapest, Attila út 135, 1012  http://kosztolanyigimnazium.hu     NaN   \n",
      "2       Budapest, Attila út 43, 1013           http://www.psg1892.hu     NaN   \n",
      "3  Budapest, Szabó Ilonka u. 2, 1015             http://egyetemi.hu/     NaN   \n",
      "4   Budapest, Gellérthegy u. 7, 1016            http://www.sztg.info     NaN   \n",
      "\n",
      "  district_roman           type  \n",
      "0              X  szakgimnázium  \n",
      "1              X      gimnázium  \n",
      "2              X      gimnázium  \n",
      "3              X      gimnázium  \n",
      "4              X      gimnázium  \n"
     ]
    }
   ],
   "source": [
    "import pandas as pd\n",
    "\n",
    "# Load the CSV file\n",
    "file_path = r\"C:\\Users\\User\\Documents\\BUAS\\Y2_W9-10\\budapest_schools_with_districts_and_contacts.csv\"\n",
    "schools_df = pd.read_csv(file_path)\n",
    "\n",
    "# Map districts to Roman numeral equivalents\n",
    "district_to_roman = {\n",
    "    \"District 1\": \"I\",\n",
    "    \"District 2\": \"II\",\n",
    "    \"District 3\": \"III\",\n",
    "    \"District 4\": \"IV\",\n",
    "    \"District 5\": \"V\",\n",
    "    \"District 6\": \"VI\",\n",
    "    \"District 7\": \"VII\",\n",
    "    \"District 8\": \"VIII\",\n",
    "    \"District 9\": \"IX\",\n",
    "    \"District 10\": \"X\",\n",
    "    \"District 11\": \"XI\",\n",
    "    \"District 12\": \"XII\",\n",
    "    \"District 13\": \"XIII\",\n",
    "    \"District 14\": \"XIV\",\n",
    "    \"District 15\": \"XV\",\n",
    "    \"District 16\": \"XVI\",\n",
    "    \"District 17\": \"XVII\",\n",
    "    \"District 18\": \"XVIII\",\n",
    "    \"District 19\": \"XIX\",\n",
    "    \"District 20\": \"XX\",\n",
    "    \"District 21\": \"XXI\",\n",
    "    \"District 22\": \"XXII\",\n",
    "    \"District 23\": \"XXIII\"\n",
    "}\n",
    "\n",
    "# Add a column with districts in Roman numeral format\n",
    "schools_df['district_roman'] = schools_df['district'].map(district_to_roman)\n",
    "\n",
    "# Define possible school types\n",
    "school_types = ['szakközépiskola', 'szakgimnázium', 'technikum', 'gimnázium']\n",
    "\n",
    "# Function to extract the school type from the name\n",
    "def extract_school_type(name):\n",
    "    for school_type in school_types:\n",
    "        if school_type.lower() in name.lower():\n",
    "            return school_type\n",
    "    return None\n",
    "\n",
    "# Add a new column for school types\n",
    "schools_df['type'] = schools_df['name'].apply(extract_school_type)\n",
    "\n",
    "# Save the updated dataframe to a new CSV or display the result\n",
    "schools_df.to_csv('updated_schools.csv', index=False)  # Save to a new CSV file\n",
    "print(schools_df.head())  # Display the first few rows\n"
   ]
  },
  {
   "cell_type": "code",
   "execution_count": null,
   "metadata": {},
   "outputs": [],
   "source": []
  }
 ],
 "metadata": {
  "kernelspec": {
   "display_name": "Python 3",
   "language": "python",
   "name": "python3"
  },
  "language_info": {
   "codemirror_mode": {
    "name": "ipython",
    "version": 3
   },
   "file_extension": ".py",
   "mimetype": "text/x-python",
   "name": "python",
   "nbconvert_exporter": "python",
   "pygments_lexer": "ipython3",
   "version": "3.12.5"
  }
 },
 "nbformat": 4,
 "nbformat_minor": 2
}
